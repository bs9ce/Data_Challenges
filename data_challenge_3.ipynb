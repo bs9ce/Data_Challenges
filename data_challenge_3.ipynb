{
 "cells": [
  {
   "cell_type": "code",
   "execution_count": 1,
   "metadata": {
    "collapsed": true
   },
   "outputs": [],
   "source": [
    "import pandas as pd\n",
    "import numpy as np\n",
    "import matplotlib.pyplot as plt\n",
    "import re\n",
    "from sklearn.utils import resample"
   ]
  },
  {
   "cell_type": "code",
   "execution_count": 2,
   "metadata": {
    "collapsed": true
   },
   "outputs": [],
   "source": [
    "conversion_data = pd.read_csv('/Users/baharsharafi/Documents/Insight\\\n",
    "/Data_Challenges/conversion_data.csv')"
   ]
  },
  {
   "cell_type": "code",
   "execution_count": 3,
   "metadata": {},
   "outputs": [
    {
     "data": {
      "text/html": [
       "<div>\n",
       "<style>\n",
       "    .dataframe thead tr:only-child th {\n",
       "        text-align: right;\n",
       "    }\n",
       "\n",
       "    .dataframe thead th {\n",
       "        text-align: left;\n",
       "    }\n",
       "\n",
       "    .dataframe tbody tr th {\n",
       "        vertical-align: top;\n",
       "    }\n",
       "</style>\n",
       "<table border=\"1\" class=\"dataframe\">\n",
       "  <thead>\n",
       "    <tr style=\"text-align: right;\">\n",
       "      <th></th>\n",
       "      <th>country</th>\n",
       "      <th>age</th>\n",
       "      <th>new_user</th>\n",
       "      <th>source</th>\n",
       "      <th>total_pages_visited</th>\n",
       "      <th>converted</th>\n",
       "    </tr>\n",
       "  </thead>\n",
       "  <tbody>\n",
       "    <tr>\n",
       "      <th>0</th>\n",
       "      <td>UK</td>\n",
       "      <td>25</td>\n",
       "      <td>1</td>\n",
       "      <td>Ads</td>\n",
       "      <td>1</td>\n",
       "      <td>0</td>\n",
       "    </tr>\n",
       "    <tr>\n",
       "      <th>1</th>\n",
       "      <td>US</td>\n",
       "      <td>23</td>\n",
       "      <td>1</td>\n",
       "      <td>Seo</td>\n",
       "      <td>5</td>\n",
       "      <td>0</td>\n",
       "    </tr>\n",
       "    <tr>\n",
       "      <th>2</th>\n",
       "      <td>US</td>\n",
       "      <td>28</td>\n",
       "      <td>1</td>\n",
       "      <td>Seo</td>\n",
       "      <td>4</td>\n",
       "      <td>0</td>\n",
       "    </tr>\n",
       "    <tr>\n",
       "      <th>3</th>\n",
       "      <td>China</td>\n",
       "      <td>39</td>\n",
       "      <td>1</td>\n",
       "      <td>Seo</td>\n",
       "      <td>5</td>\n",
       "      <td>0</td>\n",
       "    </tr>\n",
       "    <tr>\n",
       "      <th>4</th>\n",
       "      <td>US</td>\n",
       "      <td>30</td>\n",
       "      <td>1</td>\n",
       "      <td>Seo</td>\n",
       "      <td>6</td>\n",
       "      <td>0</td>\n",
       "    </tr>\n",
       "  </tbody>\n",
       "</table>\n",
       "</div>"
      ],
      "text/plain": [
       "  country  age  new_user source  total_pages_visited  converted\n",
       "0      UK   25         1    Ads                    1          0\n",
       "1      US   23         1    Seo                    5          0\n",
       "2      US   28         1    Seo                    4          0\n",
       "3   China   39         1    Seo                    5          0\n",
       "4      US   30         1    Seo                    6          0"
      ]
     },
     "execution_count": 3,
     "metadata": {},
     "output_type": "execute_result"
    }
   ],
   "source": [
    "conversion_data.head()"
   ]
  },
  {
   "cell_type": "markdown",
   "metadata": {},
   "source": [
    "# What do these columns look like?"
   ]
  },
  {
   "cell_type": "code",
   "execution_count": 5,
   "metadata": {
    "collapsed": true
   },
   "outputs": [],
   "source": [
    "countries = pd.unique(conversion_data.country)"
   ]
  },
  {
   "cell_type": "code",
   "execution_count": 8,
   "metadata": {},
   "outputs": [
    {
     "data": {
      "text/plain": [
       "US         178092\n",
       "China       76602\n",
       "UK          48450\n",
       "Germany     13056\n",
       "Name: country, dtype: int64"
      ]
     },
     "execution_count": 8,
     "metadata": {},
     "output_type": "execute_result"
    }
   ],
   "source": [
    "conversion_data['country'].value_counts()"
   ]
  },
  {
   "cell_type": "code",
   "execution_count": 9,
   "metadata": {},
   "outputs": [
    {
     "data": {
      "text/plain": [
       "Seo       155040\n",
       "Ads        88740\n",
       "Direct     72420\n",
       "Name: source, dtype: int64"
      ]
     },
     "execution_count": 9,
     "metadata": {},
     "output_type": "execute_result"
    }
   ],
   "source": [
    "conversion_data['source'].value_counts()"
   ]
  },
  {
   "cell_type": "code",
   "execution_count": 10,
   "metadata": {},
   "outputs": [
    {
     "data": {
      "text/plain": [
       "2     43868\n",
       "3     43829\n",
       "4     41046\n",
       "1     40739\n",
       "5     36308\n",
       "6     30261\n",
       "7     23488\n",
       "8     17522\n",
       "9     12157\n",
       "10     8074\n",
       "11     5394\n",
       "12     3615\n",
       "13     2425\n",
       "14     1811\n",
       "15     1325\n",
       "16     1100\n",
       "17      845\n",
       "18      722\n",
       "19      565\n",
       "20      405\n",
       "21      296\n",
       "22      180\n",
       "23      113\n",
       "24       46\n",
       "25       39\n",
       "26       17\n",
       "27        7\n",
       "29        2\n",
       "28        1\n",
       "Name: total_pages_visited, dtype: int64"
      ]
     },
     "execution_count": 10,
     "metadata": {},
     "output_type": "execute_result"
    }
   ],
   "source": [
    "conversion_data['total_pages_visited'].value_counts()"
   ]
  },
  {
   "cell_type": "code",
   "execution_count": 11,
   "metadata": {},
   "outputs": [
    {
     "data": {
      "text/plain": [
       "1    216744\n",
       "0     99456\n",
       "Name: new_user, dtype: int64"
      ]
     },
     "execution_count": 11,
     "metadata": {},
     "output_type": "execute_result"
    }
   ],
   "source": [
    "conversion_data['new_user'].value_counts()"
   ]
  },
  {
   "cell_type": "code",
   "execution_count": 12,
   "metadata": {},
   "outputs": [
    {
     "data": {
      "text/plain": [
       "0    306000\n",
       "1     10200\n",
       "Name: converted, dtype: int64"
      ]
     },
     "execution_count": 12,
     "metadata": {},
     "output_type": "execute_result"
    }
   ],
   "source": [
    "conversion_data['converted'].value_counts()"
   ]
  },
  {
   "cell_type": "markdown",
   "metadata": {},
   "source": [
    "# What do the columns look like if we seperate by those who converted and those who did not?"
   ]
  },
  {
   "cell_type": "code",
   "execution_count": 13,
   "metadata": {
    "collapsed": true
   },
   "outputs": [],
   "source": [
    "convert_data = conversion_data[conversion_data['converted'] == 1]\n",
    "nonconvert_data = conversion_data[conversion_data['converted'] == 0]"
   ]
  },
  {
   "cell_type": "markdown",
   "metadata": {},
   "source": [
    "## By country:"
   ]
  },
  {
   "cell_type": "code",
   "execution_count": 14,
   "metadata": {},
   "outputs": [
    {
     "data": {
      "text/plain": [
       "{'convert': US         6732\n",
       " UK         2550\n",
       " Germany     816\n",
       " China       102\n",
       " Name: country, dtype: int64, 'nonconvert': US         171360\n",
       " China       76500\n",
       " UK          45900\n",
       " Germany     12240\n",
       " Name: country, dtype: int64}"
      ]
     },
     "execution_count": 14,
     "metadata": {},
     "output_type": "execute_result"
    }
   ],
   "source": [
    "{'convert':convert_data['country'].value_counts() , 'nonconvert': nonconvert_data['country'].value_counts()}"
   ]
  },
  {
   "cell_type": "markdown",
   "metadata": {},
   "source": [
    "### Conversion rate by country:"
   ]
  },
  {
   "cell_type": "code",
   "execution_count": 15,
   "metadata": {},
   "outputs": [
    {
     "data": {
      "text/plain": [
       "China      0.001332\n",
       "Germany    0.062500\n",
       "UK         0.052632\n",
       "US         0.037801\n",
       "Name: country, dtype: float64"
      ]
     },
     "execution_count": 15,
     "metadata": {},
     "output_type": "execute_result"
    }
   ],
   "source": [
    "convert_data['country'].value_counts()/conversion_data['country'].value_counts()"
   ]
  },
  {
   "cell_type": "markdown",
   "metadata": {},
   "source": [
    "### Insight: Don't bother with selling in china!"
   ]
  },
  {
   "cell_type": "markdown",
   "metadata": {},
   "source": [
    "## By source: "
   ]
  },
  {
   "cell_type": "code",
   "execution_count": 21,
   "metadata": {},
   "outputs": [
    {
     "data": {
      "text/plain": [
       "Seo       0.032895\n",
       "Ads       0.034483\n",
       "Direct    0.028169\n",
       "Name: source, dtype: float64"
      ]
     },
     "execution_count": 21,
     "metadata": {},
     "output_type": "execute_result"
    }
   ],
   "source": [
    "convert_data['source'].value_counts()/conversion_data['source'].value_counts()"
   ]
  },
  {
   "cell_type": "markdown",
   "metadata": {},
   "source": [
    "### Insight: Not that different by source."
   ]
  },
  {
   "cell_type": "code",
   "execution_count": 22,
   "metadata": {},
   "outputs": [
    {
     "data": {
      "text/plain": [
       "Seo       0.032895\n",
       "Ads       0.034483\n",
       "Direct    0.028169\n",
       "Name: source, dtype: float64"
      ]
     },
     "execution_count": 22,
     "metadata": {},
     "output_type": "execute_result"
    }
   ],
   "source": [
    "convert_data['source'].value_counts()/conversion_data['source'].value_counts()"
   ]
  },
  {
   "cell_type": "markdown",
   "metadata": {},
   "source": [
    "## By number of page visits: "
   ]
  },
  {
   "cell_type": "code",
   "execution_count": 20,
   "metadata": {},
   "outputs": [
    {
     "data": {
      "text/plain": [
       "1          NaN\n",
       "2     0.000228\n",
       "3     0.000251\n",
       "4     0.000780\n",
       "5     0.001570\n",
       "6     0.003437\n",
       "7     0.006769\n",
       "8     0.015238\n",
       "9     0.033067\n",
       "10    0.061184\n",
       "11    0.123471\n",
       "12    0.244537\n",
       "13    0.400825\n",
       "14    0.587521\n",
       "15    0.740377\n",
       "16    0.871818\n",
       "17    0.923077\n",
       "18    0.961219\n",
       "19    0.989381\n",
       "20    0.997531\n",
       "21    1.000000\n",
       "22    1.000000\n",
       "23    1.000000\n",
       "24    1.000000\n",
       "25    1.000000\n",
       "26    1.000000\n",
       "27    1.000000\n",
       "28    1.000000\n",
       "29    1.000000\n",
       "Name: total_pages_visited, dtype: float64"
      ]
     },
     "execution_count": 20,
     "metadata": {},
     "output_type": "execute_result"
    }
   ],
   "source": [
    "convert_data['total_pages_visited'].value_counts()/conversion_data['total_pages_visited'].value_counts()"
   ]
  },
  {
   "cell_type": "markdown",
   "metadata": {},
   "source": [
    "### Insight: The more pages you visit the more likely you are to convert. Makes sense. Perhaps you were more motivated to purchase to begin with? Or is it that if the website can engage you longer, you are more likely to buy?"
   ]
  },
  {
   "cell_type": "markdown",
   "metadata": {},
   "source": [
    "## New or old user?"
   ]
  },
  {
   "cell_type": "code",
   "execution_count": 23,
   "metadata": {},
   "outputs": [
    {
     "data": {
      "text/plain": [
       "0    0.072002\n",
       "1    0.014021\n",
       "Name: new_user, dtype: float64"
      ]
     },
     "execution_count": 23,
     "metadata": {},
     "output_type": "execute_result"
    }
   ],
   "source": [
    "convert_data['new_user'].value_counts()/conversion_data['new_user'].value_counts()"
   ]
  },
  {
   "cell_type": "markdown",
   "metadata": {},
   "source": [
    "### Insight: New users are less likely to convert!"
   ]
  },
  {
   "cell_type": "markdown",
   "metadata": {},
   "source": [
    "## By age: "
   ]
  },
  {
   "cell_type": "code",
   "execution_count": 27,
   "metadata": {},
   "outputs": [],
   "source": [
    "# convert_data['age'].value_counts()/conversion_data['age'].value_counts()"
   ]
  },
  {
   "cell_type": "markdown",
   "metadata": {},
   "source": [
    "### This is not particulalrly useful! Let's plot instead!"
   ]
  },
  {
   "cell_type": "code",
   "execution_count": 36,
   "metadata": {},
   "outputs": [
    {
     "data": {
      "image/png": "[encoded data removed]",
      "text/plain": [
       "<matplotlib.figure.Figure at 0x119d83d30>"
      ]
     },
     "metadata": {},
     "output_type": "display_data"
    }
   ],
   "source": [
    "fig, ax = plt.subplots()\n",
    "ax.plot(conversion_data.age,conversion_data.converted,'r.')\n",
    "ax.set_xlim(10,80)\n",
    "plt.xlabel('revenue per user per day')\n",
    "plt.ylabel('count')\n",
    "\n",
    "plt.show()"
   ]
  },
  {
   "cell_type": "markdown",
   "metadata": {},
   "source": [
    "## I joined the two tables by user_id:\n",
    "But in the end I didn't get around to looking at the geographic information."
   ]
  },
  {
   "cell_type": "code",
   "execution_count": 5,
   "metadata": {
    "collapsed": true
   },
   "outputs": [],
   "source": [
    "users_1 = users.set_index('user_id')\n",
    "test_results_1 = test_results.set_index('user_id')\n",
    "dataset = pd.concat([test_results_1,users_1],axis = 1)"
   ]
  },
  {
   "cell_type": "markdown",
   "metadata": {},
   "source": [
    "Some users are not in the users table, so the joined dataset ends up with some nans for location information."
   ]
  },
  {
   "cell_type": "markdown",
   "metadata": {},
   "source": [
    "# How much money did we make per user exposed to the website under test and control conditions? "
   ]
  },
  {
   "cell_type": "code",
   "execution_count": 6,
   "metadata": {
    "collapsed": true
   },
   "outputs": [],
   "source": [
    "test_results_test = test_results[test_results.test == 1]\n",
    "convert_rate_test = sum(test_results_test.converted)/len(test_results_test)\n",
    "revenue_per_test = convert_rate_test*59\n",
    "test_results_control = test_results[test_results.test == 0]\n",
    "convert_rate_control =sum(test_results_control.converted)/len(test_results_control)\n",
    "revenue_per_control = convert_rate_control*39\n",
    "revenue_differenece = revenue_per_test-revenue_per_control"
   ]
  },
  {
   "cell_type": "code",
   "execution_count": 7,
   "metadata": {},
   "outputs": [
    {
     "data": {
      "text/plain": [
       "0.14077709526103077"
      ]
     },
     "execution_count": 7,
     "metadata": {},
     "output_type": "execute_result"
    }
   ],
   "source": [
    "revenue_differenece"
   ]
  },
  {
   "cell_type": "markdown",
   "metadata": {},
   "source": [
    "We made 14 cents more per user in the test group!"
   ]
  },
  {
   "cell_type": "markdown",
   "metadata": {},
   "source": [
    "# How many days should we have run the test for?"
   ]
  },
  {
   "cell_type": "markdown",
   "metadata": {},
   "source": [
    "### Days from timestamps:"
   ]
  },
  {
   "cell_type": "code",
   "execution_count": 56,
   "metadata": {
    "collapsed": true
   },
   "outputs": [],
   "source": [
    "timestamp = pd.to_datetime(test_results.timestamp,errors='coerce')\n",
    "test_results['time'] = timestamp\n",
    "# Some if the time stamps are incorrect and will be replaced by Nans\n",
    "days = timestamp - timestamp.min()\n",
    "aux1 = pd.to_timedelta(days)\n",
    "aux2 = aux1.apply(lambda x: x.days)\n",
    "test_results['days'] = aux2"
   ]
  },
  {
   "cell_type": "code",
   "execution_count": 57,
   "metadata": {},
   "outputs": [
    {
     "data": {
      "text/html": [
       "<div>\n",
       "<style>\n",
       "    .dataframe thead tr:only-child th {\n",
       "        text-align: right;\n",
       "    }\n",
       "\n",
       "    .dataframe thead th {\n",
       "        text-align: left;\n",
       "    }\n",
       "\n",
       "    .dataframe tbody tr th {\n",
       "        vertical-align: top;\n",
       "    }\n",
       "</style>\n",
       "<table border=\"1\" class=\"dataframe\">\n",
       "  <thead>\n",
       "    <tr style=\"text-align: right;\">\n",
       "      <th></th>\n",
       "      <th>user_id</th>\n",
       "      <th>timestamp</th>\n",
       "      <th>source</th>\n",
       "      <th>device</th>\n",
       "      <th>operative_system</th>\n",
       "      <th>test</th>\n",
       "      <th>price</th>\n",
       "      <th>converted</th>\n",
       "      <th>days</th>\n",
       "      <th>time</th>\n",
       "    </tr>\n",
       "  </thead>\n",
       "  <tbody>\n",
       "    <tr>\n",
       "      <th>166052</th>\n",
       "      <td>503836</td>\n",
       "      <td>2015-03-02 00:04:12</td>\n",
       "      <td>ads-google</td>\n",
       "      <td>web</td>\n",
       "      <td>windows</td>\n",
       "      <td>1</td>\n",
       "      <td>59</td>\n",
       "      <td>0</td>\n",
       "      <td>0.0</td>\n",
       "      <td>2015-03-02 00:04:12</td>\n",
       "    </tr>\n",
       "    <tr>\n",
       "      <th>215757</th>\n",
       "      <td>813537</td>\n",
       "      <td>2015-03-02 00:04:12</td>\n",
       "      <td>ads-google</td>\n",
       "      <td>web</td>\n",
       "      <td>windows</td>\n",
       "      <td>1</td>\n",
       "      <td>59</td>\n",
       "      <td>0</td>\n",
       "      <td>0.0</td>\n",
       "      <td>2015-03-02 00:04:12</td>\n",
       "    </tr>\n",
       "    <tr>\n",
       "      <th>20240</th>\n",
       "      <td>583796</td>\n",
       "      <td>2015-03-02 00:12:40</td>\n",
       "      <td>ads_facebook</td>\n",
       "      <td>web</td>\n",
       "      <td>windows</td>\n",
       "      <td>0</td>\n",
       "      <td>39</td>\n",
       "      <td>0</td>\n",
       "      <td>0.0</td>\n",
       "      <td>2015-03-02 00:12:40</td>\n",
       "    </tr>\n",
       "    <tr>\n",
       "      <th>278620</th>\n",
       "      <td>632922</td>\n",
       "      <td>2015-03-02 00:16:25</td>\n",
       "      <td>ads-google</td>\n",
       "      <td>web</td>\n",
       "      <td>windows</td>\n",
       "      <td>0</td>\n",
       "      <td>39</td>\n",
       "      <td>0</td>\n",
       "      <td>0.0</td>\n",
       "      <td>2015-03-02 00:16:25</td>\n",
       "    </tr>\n",
       "    <tr>\n",
       "      <th>209555</th>\n",
       "      <td>16110</td>\n",
       "      <td>2015-03-02 00:18:46</td>\n",
       "      <td>direct_traffic</td>\n",
       "      <td>web</td>\n",
       "      <td>mac</td>\n",
       "      <td>0</td>\n",
       "      <td>39</td>\n",
       "      <td>0</td>\n",
       "      <td>0.0</td>\n",
       "      <td>2015-03-02 00:18:46</td>\n",
       "    </tr>\n",
       "  </tbody>\n",
       "</table>\n",
       "</div>"
      ],
      "text/plain": [
       "        user_id            timestamp          source device operative_system  \\\n",
       "166052   503836  2015-03-02 00:04:12      ads-google    web          windows   \n",
       "215757   813537  2015-03-02 00:04:12      ads-google    web          windows   \n",
       "20240    583796  2015-03-02 00:12:40    ads_facebook    web          windows   \n",
       "278620   632922  2015-03-02 00:16:25      ads-google    web          windows   \n",
       "209555    16110  2015-03-02 00:18:46  direct_traffic    web              mac   \n",
       "\n",
       "        test  price  converted  days                time  \n",
       "166052     1     59          0   0.0 2015-03-02 00:04:12  \n",
       "215757     1     59          0   0.0 2015-03-02 00:04:12  \n",
       "20240      0     39          0   0.0 2015-03-02 00:12:40  \n",
       "278620     0     39          0   0.0 2015-03-02 00:16:25  \n",
       "209555     0     39          0   0.0 2015-03-02 00:18:46  "
      ]
     },
     "execution_count": 57,
     "metadata": {},
     "output_type": "execute_result"
    }
   ],
   "source": [
    "# Toss out records with NaN days that result from incorrect time stamps (this is about 3% of the data it is ok :-)\n",
    "mask = test_results['days'].isnull()\n",
    "test_results_noNat = test_results[~mask]\n",
    "test_results_by_date = test_results_noNat.sort_values('timestamp')\n",
    "test_results_by_date.head()"
   ]
  },
  {
   "cell_type": "markdown",
   "metadata": {},
   "source": [
    "### Seperate the test and control groups into two datasets to calculate the cumsum:"
   ]
  },
  {
   "cell_type": "code",
   "execution_count": 58,
   "metadata": {
    "scrolled": true
   },
   "outputs": [
    {
     "name": "stderr",
     "output_type": "stream",
     "text": [
      "/anaconda/envs/my_projects_env/lib/python3.6/site-packages/ipykernel/__main__.py:6: SettingWithCopyWarning: \n",
      "A value is trying to be set on a copy of a slice from a DataFrame.\n",
      "Try using .loc[row_indexer,col_indexer] = value instead\n",
      "\n",
      "See the caveats in the documentation: http://pandas.pydata.org/pandas-docs/stable/indexing.html#indexing-view-versus-copy\n",
      "/anaconda/envs/my_projects_env/lib/python3.6/site-packages/ipykernel/__main__.py:7: SettingWithCopyWarning: \n",
      "A value is trying to be set on a copy of a slice from a DataFrame.\n",
      "Try using .loc[row_indexer,col_indexer] = value instead\n",
      "\n",
      "See the caveats in the documentation: http://pandas.pydata.org/pandas-docs/stable/indexing.html#indexing-view-versus-copy\n",
      "/anaconda/envs/my_projects_env/lib/python3.6/site-packages/ipykernel/__main__.py:11: SettingWithCopyWarning: \n",
      "A value is trying to be set on a copy of a slice from a DataFrame.\n",
      "Try using .loc[row_indexer,col_indexer] = value instead\n",
      "\n",
      "See the caveats in the documentation: http://pandas.pydata.org/pandas-docs/stable/indexing.html#indexing-view-versus-copy\n"
     ]
    }
   ],
   "source": [
    "test = test_results_by_date[test_results_by_date['test'] == 1]\n",
    "control = test_results_by_date[test_results_by_date['test'] == 0]\n",
    "# Calculate the cumsum:\n",
    "test_group_converted_by_date = test['converted'].cumsum()\n",
    "control_group_converted_by_date = control['converted'].cumsum()\n",
    "test['cumsum'] = test_group_converted_by_date\n",
    "control['cumsum'] = control_group_converted_by_date\n",
    "\n",
    "# Number of tests by date:\n",
    "nums_tests = np.arange(len(control))\n",
    "control['num_tests'] = nums_tests"
   ]
  },
  {
   "cell_type": "markdown",
   "metadata": {},
   "source": [
    "## Converstion rates per day:"
   ]
  },
  {
   "cell_type": "code",
   "execution_count": 59,
   "metadata": {},
   "outputs": [
    {
     "name": "stderr",
     "output_type": "stream",
     "text": [
      "/anaconda/envs/my_projects_env/lib/python3.6/site-packages/ipykernel/__main__.py:23: SettingWithCopyWarning: \n",
      "A value is trying to be set on a copy of a slice from a DataFrame.\n",
      "Try using .loc[row_indexer,col_indexer] = value instead\n",
      "\n",
      "See the caveats in the documentation: http://pandas.pydata.org/pandas-docs/stable/indexing.html#indexing-view-versus-copy\n"
     ]
    }
   ],
   "source": [
    "groups = test_results_by_date.groupby('days')\n",
    "num_days = pd.unique(test_results_noNat.days)\n",
    "len_df = len(num_days)\n",
    "\n",
    "cum_table = pd.DataFrame({'tested':np.repeat(np.NaN,(len_df,)),\n",
    "                          'test_converted':np.repeat(np.NaN,(len_df,)),\n",
    "                          'control':np.repeat(np.NaN,(len_df,)),\n",
    "                          'control_converted':np.repeat(np.NaN,(len_df,))},index = num_days.astype('int'))\n",
    "cum_table_sort =  cum_table.sort_index()\n",
    "for g,group in groups:\n",
    "    cum_table_sort.loc[int(g),'tested'] = sum(group.test)\n",
    "    cum_table_sort.loc[int(g),'control'] = len(group)-sum(group.test)\n",
    "    test_converted = group[(group['test'] == 1) & (group['converted'] == 1)]\n",
    "    cum_table_sort.loc[int(g),'test_converted'] = sum(test_converted.converted)\n",
    "    \n",
    "    control_converted = group[(group['test'] == 0) & (group['converted'] == 1)]\n",
    "    cum_table_sort.loc[int(g),'control_converted'] = sum(control_converted.converted)\n",
    "\n",
    "\n",
    "cum_table_sort['money_test_per'] = 59*cum_table_sort.test_converted/cum_table_sort.tested \n",
    "cum_table_sort['money_ctrl_per'] = 39*cum_table_sort.control_converted/cum_table_sort.control \n",
    "nums_tests = np.arange(len(control))\n",
    "control['num_tests'] = nums_tests"
   ]
  },
  {
   "cell_type": "code",
   "execution_count": 60,
   "metadata": {},
   "outputs": [
    {
     "data": {
      "text/html": [
       "<div>\n",
       "<style>\n",
       "    .dataframe thead tr:only-child th {\n",
       "        text-align: right;\n",
       "    }\n",
       "\n",
       "    .dataframe thead th {\n",
       "        text-align: left;\n",
       "    }\n",
       "\n",
       "    .dataframe tbody tr th {\n",
       "        vertical-align: top;\n",
       "    }\n",
       "</style>\n",
       "<table border=\"1\" class=\"dataframe\">\n",
       "  <thead>\n",
       "    <tr style=\"text-align: right;\">\n",
       "      <th></th>\n",
       "      <th>control</th>\n",
       "      <th>control_converted</th>\n",
       "      <th>test_converted</th>\n",
       "      <th>tested</th>\n",
       "      <th>money_test_per</th>\n",
       "      <th>money_ctrl_per</th>\n",
       "    </tr>\n",
       "  </thead>\n",
       "  <tbody>\n",
       "    <tr>\n",
       "      <th>0</th>\n",
       "      <td>991.0</td>\n",
       "      <td>18.0</td>\n",
       "      <td>9.0</td>\n",
       "      <td>556.0</td>\n",
       "      <td>0.955036</td>\n",
       "      <td>0.708375</td>\n",
       "    </tr>\n",
       "    <tr>\n",
       "      <th>1</th>\n",
       "      <td>890.0</td>\n",
       "      <td>20.0</td>\n",
       "      <td>6.0</td>\n",
       "      <td>569.0</td>\n",
       "      <td>0.622144</td>\n",
       "      <td>0.876404</td>\n",
       "    </tr>\n",
       "    <tr>\n",
       "      <th>2</th>\n",
       "      <td>923.0</td>\n",
       "      <td>27.0</td>\n",
       "      <td>6.0</td>\n",
       "      <td>446.0</td>\n",
       "      <td>0.793722</td>\n",
       "      <td>1.140845</td>\n",
       "    </tr>\n",
       "    <tr>\n",
       "      <th>3</th>\n",
       "      <td>1711.0</td>\n",
       "      <td>46.0</td>\n",
       "      <td>24.0</td>\n",
       "      <td>1022.0</td>\n",
       "      <td>1.385519</td>\n",
       "      <td>1.048510</td>\n",
       "    </tr>\n",
       "    <tr>\n",
       "      <th>4</th>\n",
       "      <td>4476.0</td>\n",
       "      <td>80.0</td>\n",
       "      <td>41.0</td>\n",
       "      <td>2507.0</td>\n",
       "      <td>0.964898</td>\n",
       "      <td>0.697051</td>\n",
       "    </tr>\n",
       "  </tbody>\n",
       "</table>\n",
       "</div>"
      ],
      "text/plain": [
       "   control  control_converted  test_converted  tested  money_test_per  \\\n",
       "0    991.0               18.0             9.0   556.0        0.955036   \n",
       "1    890.0               20.0             6.0   569.0        0.622144   \n",
       "2    923.0               27.0             6.0   446.0        0.793722   \n",
       "3   1711.0               46.0            24.0  1022.0        1.385519   \n",
       "4   4476.0               80.0            41.0  2507.0        0.964898   \n",
       "\n",
       "   money_ctrl_per  \n",
       "0        0.708375  \n",
       "1        0.876404  \n",
       "2        1.140845  \n",
       "3        1.048510  \n",
       "4        0.697051  "
      ]
     },
     "execution_count": 60,
     "metadata": {},
     "output_type": "execute_result"
    }
   ],
   "source": [
    "cum_table_sort.head()"
   ]
  },
  {
   "cell_type": "code",
   "execution_count": 61,
   "metadata": {},
   "outputs": [
    {
     "data": {
      "image/png": "[encoded data removed]",
      "text/plain": [
       "<matplotlib.figure.Figure at 0x131e7f2e8>"
      ]
     },
     "metadata": {},
     "output_type": "display_data"
    }
   ],
   "source": [
    "fig, ax = plt.subplots()\n",
    "#plt.subplot(111)\n",
    "ax.hist(cum_table_sort.money_ctrl_per,bins=20,color = 'r',label = 'control')\n",
    "ax.hist(cum_table_sort.money_test_per,bins=20,label = 'test')\n",
    "ax.legend()\n",
    "plt.xlabel('revenue per user per day')\n",
    "plt.ylabel('count')\n",
    "plt.show()"
   ]
  },
  {
   "cell_type": "markdown",
   "metadata": {},
   "source": [
    "## Calculated the revenue per user exposed, cumulatively, for each day that the test was run:"
   ]
  },
  {
   "cell_type": "code",
   "execution_count": 62,
   "metadata": {
    "scrolled": true
   },
   "outputs": [
    {
     "data": {
      "image/png": "[encoded data removed]",
      "text/plain": [
       "<matplotlib.figure.Figure at 0x128644978>"
      ]
     },
     "metadata": {},
     "output_type": "display_data"
    }
   ],
   "source": [
    "cum_table_sort['cum_sum_tested'] = cum_table_sort['tested'].cumsum()\n",
    "cum_table_sort['cum_sum_control'] = cum_table_sort['control'].cumsum()\n",
    "cum_table_sort['cum_sum_control_converted'] = cum_table_sort['control_converted'].cumsum()\n",
    "cum_table_sort['cum_sum_test_converted'] = cum_table_sort['test_converted'].cumsum()\n",
    "gooz_test = 59*cum_table_sort['cum_sum_test_converted']/cum_table_sort['cum_sum_tested']\n",
    "gooz_control = 39*cum_table_sort['cum_sum_control_converted']/cum_table_sort['cum_sum_control']\n",
    "plt.plot(gooz_test,'r')\n",
    "plt.plot(gooz_control,'b')\n",
    "plt.show()"
   ]
  },
  {
   "cell_type": "markdown",
   "metadata": {},
   "source": [
    "# Findings from this section: \n",
    "By around 60 days the revenue per user is stable for the test and control conditions, they could have stopped there."
   ]
  },
  {
   "cell_type": "markdown",
   "metadata": {},
   "source": [
    "# Analysis of factors contributing to conversion:"
   ]
  },
  {
   "cell_type": "code",
   "execution_count": 63,
   "metadata": {},
   "outputs": [
    {
     "data": {
      "text/html": [
       "<div>\n",
       "<style>\n",
       "    .dataframe thead tr:only-child th {\n",
       "        text-align: right;\n",
       "    }\n",
       "\n",
       "    .dataframe thead th {\n",
       "        text-align: left;\n",
       "    }\n",
       "\n",
       "    .dataframe tbody tr th {\n",
       "        vertical-align: top;\n",
       "    }\n",
       "</style>\n",
       "<table border=\"1\" class=\"dataframe\">\n",
       "  <thead>\n",
       "    <tr style=\"text-align: right;\">\n",
       "      <th></th>\n",
       "      <th>user_id</th>\n",
       "      <th>timestamp</th>\n",
       "      <th>source</th>\n",
       "      <th>device</th>\n",
       "      <th>operative_system</th>\n",
       "      <th>test</th>\n",
       "      <th>price</th>\n",
       "      <th>converted</th>\n",
       "      <th>days</th>\n",
       "      <th>time</th>\n",
       "    </tr>\n",
       "  </thead>\n",
       "  <tbody>\n",
       "    <tr>\n",
       "      <th>166052</th>\n",
       "      <td>503836</td>\n",
       "      <td>2015-03-02 00:04:12</td>\n",
       "      <td>ads-google</td>\n",
       "      <td>web</td>\n",
       "      <td>windows</td>\n",
       "      <td>1</td>\n",
       "      <td>59</td>\n",
       "      <td>0</td>\n",
       "      <td>0.0</td>\n",
       "      <td>2015-03-02 00:04:12</td>\n",
       "    </tr>\n",
       "    <tr>\n",
       "      <th>215757</th>\n",
       "      <td>813537</td>\n",
       "      <td>2015-03-02 00:04:12</td>\n",
       "      <td>ads-google</td>\n",
       "      <td>web</td>\n",
       "      <td>windows</td>\n",
       "      <td>1</td>\n",
       "      <td>59</td>\n",
       "      <td>0</td>\n",
       "      <td>0.0</td>\n",
       "      <td>2015-03-02 00:04:12</td>\n",
       "    </tr>\n",
       "    <tr>\n",
       "      <th>20240</th>\n",
       "      <td>583796</td>\n",
       "      <td>2015-03-02 00:12:40</td>\n",
       "      <td>ads_facebook</td>\n",
       "      <td>web</td>\n",
       "      <td>windows</td>\n",
       "      <td>0</td>\n",
       "      <td>39</td>\n",
       "      <td>0</td>\n",
       "      <td>0.0</td>\n",
       "      <td>2015-03-02 00:12:40</td>\n",
       "    </tr>\n",
       "    <tr>\n",
       "      <th>278620</th>\n",
       "      <td>632922</td>\n",
       "      <td>2015-03-02 00:16:25</td>\n",
       "      <td>ads-google</td>\n",
       "      <td>web</td>\n",
       "      <td>windows</td>\n",
       "      <td>0</td>\n",
       "      <td>39</td>\n",
       "      <td>0</td>\n",
       "      <td>0.0</td>\n",
       "      <td>2015-03-02 00:16:25</td>\n",
       "    </tr>\n",
       "    <tr>\n",
       "      <th>209555</th>\n",
       "      <td>16110</td>\n",
       "      <td>2015-03-02 00:18:46</td>\n",
       "      <td>direct_traffic</td>\n",
       "      <td>web</td>\n",
       "      <td>mac</td>\n",
       "      <td>0</td>\n",
       "      <td>39</td>\n",
       "      <td>0</td>\n",
       "      <td>0.0</td>\n",
       "      <td>2015-03-02 00:18:46</td>\n",
       "    </tr>\n",
       "  </tbody>\n",
       "</table>\n",
       "</div>"
      ],
      "text/plain": [
       "        user_id            timestamp          source device operative_system  \\\n",
       "166052   503836  2015-03-02 00:04:12      ads-google    web          windows   \n",
       "215757   813537  2015-03-02 00:04:12      ads-google    web          windows   \n",
       "20240    583796  2015-03-02 00:12:40    ads_facebook    web          windows   \n",
       "278620   632922  2015-03-02 00:16:25      ads-google    web          windows   \n",
       "209555    16110  2015-03-02 00:18:46  direct_traffic    web              mac   \n",
       "\n",
       "        test  price  converted  days                time  \n",
       "166052     1     59          0   0.0 2015-03-02 00:04:12  \n",
       "215757     1     59          0   0.0 2015-03-02 00:04:12  \n",
       "20240      0     39          0   0.0 2015-03-02 00:12:40  \n",
       "278620     0     39          0   0.0 2015-03-02 00:16:25  \n",
       "209555     0     39          0   0.0 2015-03-02 00:18:46  "
      ]
     },
     "execution_count": 63,
     "metadata": {},
     "output_type": "execute_result"
    }
   ],
   "source": [
    "features = test_results_by_date.copy()\n",
    "features.head()"
   ]
  },
  {
   "cell_type": "markdown",
   "metadata": {},
   "source": [
    "### Make time of day a feature:"
   ]
  },
  {
   "cell_type": "code",
   "execution_count": 65,
   "metadata": {
    "collapsed": true
   },
   "outputs": [],
   "source": [
    "hour = features.time.apply(lambda x: x.hour)\n",
    "features['hour'] = hour"
   ]
  },
  {
   "cell_type": "markdown",
   "metadata": {},
   "source": [
    "### Divide 'source' to seo, ads, direct, and friends referal and one-hot encode these categories: "
   ]
  },
  {
   "cell_type": "code",
   "execution_count": 66,
   "metadata": {
    "collapsed": true
   },
   "outputs": [],
   "source": [
    "ads_mask = features.source.apply(lambda x: True if re.search('ads',x) else False)\n",
    "seo_mask = features.source.apply(lambda x: True if re.search('seo',x) else False)\n",
    "friend_mask = features['source'] == 'friend_referral'\n",
    "direct_mask = features['source'] == 'direct_traffic'"
   ]
  },
  {
   "cell_type": "code",
   "execution_count": 67,
   "metadata": {
    "collapsed": true
   },
   "outputs": [],
   "source": [
    "seo = np.zeros((len(features),))\n",
    "seo[seo_mask] = 1\n",
    "features['seo'] = seo"
   ]
  },
  {
   "cell_type": "code",
   "execution_count": 68,
   "metadata": {
    "collapsed": true
   },
   "outputs": [],
   "source": [
    "ads = np.zeros((len(features),))\n",
    "ads[ads_mask] = 1\n",
    "features['ads'] = ads"
   ]
  },
  {
   "cell_type": "code",
   "execution_count": 69,
   "metadata": {
    "collapsed": true
   },
   "outputs": [],
   "source": [
    "direct = np.zeros((len(features),))\n",
    "direct[direct_mask] = 1\n",
    "features['direct'] = direct"
   ]
  },
  {
   "cell_type": "code",
   "execution_count": 70,
   "metadata": {
    "collapsed": true
   },
   "outputs": [],
   "source": [
    "friend = np.zeros((len(features),))\n",
    "friend[friend_mask] = 1\n",
    "features['friend'] = friend"
   ]
  },
  {
   "cell_type": "markdown",
   "metadata": {},
   "source": [
    "### one-hot encode the operating system:"
   ]
  },
  {
   "cell_type": "code",
   "execution_count": 73,
   "metadata": {
    "collapsed": true
   },
   "outputs": [],
   "source": [
    "aux3 = pd.get_dummies(features.operative_system)\n",
    "aux4 = pd.get_dummies(features.device)\n",
    "feature = pd.concat([features,aux3,aux4],axis = 1)"
   ]
  },
  {
   "cell_type": "code",
   "execution_count": 74,
   "metadata": {
    "collapsed": true
   },
   "outputs": [],
   "source": [
    "feature.drop('timestamp',axis = 1,inplace = True)"
   ]
  },
  {
   "cell_type": "code",
   "execution_count": 75,
   "metadata": {
    "collapsed": true
   },
   "outputs": [],
   "source": [
    "feature.drop(['time','source','device','operative_system'],axis = 1,inplace = True)"
   ]
  },
  {
   "cell_type": "markdown",
   "metadata": {},
   "source": [
    "### Balance the training set:"
   ]
  },
  {
   "cell_type": "code",
   "execution_count": 79,
   "metadata": {
    "collapsed": true
   },
   "outputs": [],
   "source": [
    "feature_conv = feature[feature['converted'] == 1]\n",
    "feature_noconv = feature[feature['converted'] == 0]"
   ]
  },
  {
   "cell_type": "code",
   "execution_count": 80,
   "metadata": {
    "collapsed": true
   },
   "outputs": [],
   "source": [
    "feature_conv_resampled = resample(feature_conv,n_samples = len(feature_noconv))"
   ]
  },
  {
   "cell_type": "code",
   "execution_count": 81,
   "metadata": {
    "collapsed": true
   },
   "outputs": [],
   "source": [
    "feature_res = pd.concat([feature_conv_resampled,feature_noconv])"
   ]
  },
  {
   "cell_type": "code",
   "execution_count": 82,
   "metadata": {
    "collapsed": true
   },
   "outputs": [],
   "source": [
    "Xtrain = feature_res[['seo','ads','direct','friend','android','iOS','linux','mac','other','windows','mobile','web','test']]\n",
    "ytrain = feature_res['converted']"
   ]
  },
  {
   "cell_type": "code",
   "execution_count": 83,
   "metadata": {},
   "outputs": [
    {
     "data": {
      "text/plain": [
       "53.54252669039146"
      ]
     },
     "execution_count": 83,
     "metadata": {},
     "output_type": "execute_result"
    }
   ],
   "source": [
    "len(feature_noconv)/len(feature_conv)"
   ]
  },
  {
   "cell_type": "code",
   "execution_count": 370,
   "metadata": {},
   "outputs": [
    {
     "name": "stdout",
     "output_type": "stream",
     "text": [
      "Fitting 5 folds for each of 18 candidates, totalling 90 fits\n"
     ]
    },
    {
     "name": "stderr",
     "output_type": "stream",
     "text": [
      "[Parallel(n_jobs=-1)]: Done  34 tasks      | elapsed:   52.5s\n",
      "/anaconda/envs/my_projects_env/lib/python3.6/site-packages/sklearn/linear_model/sag.py:326: ConvergenceWarning: The max_iter was reached which means the coef_ did not converge\n",
      "  \"the coef_ did not converge\", ConvergenceWarning)\n",
      "/anaconda/envs/my_projects_env/lib/python3.6/site-packages/sklearn/linear_model/sag.py:326: ConvergenceWarning: The max_iter was reached which means the coef_ did not converge\n",
      "  \"the coef_ did not converge\", ConvergenceWarning)\n",
      "/anaconda/envs/my_projects_env/lib/python3.6/site-packages/sklearn/linear_model/sag.py:326: ConvergenceWarning: The max_iter was reached which means the coef_ did not converge\n",
      "  \"the coef_ did not converge\", ConvergenceWarning)\n",
      "/anaconda/envs/my_projects_env/lib/python3.6/site-packages/sklearn/linear_model/sag.py:326: ConvergenceWarning: The max_iter was reached which means the coef_ did not converge\n",
      "  \"the coef_ did not converge\", ConvergenceWarning)\n",
      "/anaconda/envs/my_projects_env/lib/python3.6/site-packages/sklearn/linear_model/sag.py:326: ConvergenceWarning: The max_iter was reached which means the coef_ did not converge\n",
      "  \"the coef_ did not converge\", ConvergenceWarning)\n",
      "/anaconda/envs/my_projects_env/lib/python3.6/site-packages/sklearn/linear_model/sag.py:326: ConvergenceWarning: The max_iter was reached which means the coef_ did not converge\n",
      "  \"the coef_ did not converge\", ConvergenceWarning)\n",
      "/anaconda/envs/my_projects_env/lib/python3.6/site-packages/sklearn/linear_model/sag.py:326: ConvergenceWarning: The max_iter was reached which means the coef_ did not converge\n",
      "  \"the coef_ did not converge\", ConvergenceWarning)\n",
      "/anaconda/envs/my_projects_env/lib/python3.6/site-packages/sklearn/linear_model/sag.py:326: ConvergenceWarning: The max_iter was reached which means the coef_ did not converge\n",
      "  \"the coef_ did not converge\", ConvergenceWarning)\n",
      "/anaconda/envs/my_projects_env/lib/python3.6/site-packages/sklearn/linear_model/sag.py:326: ConvergenceWarning: The max_iter was reached which means the coef_ did not converge\n",
      "  \"the coef_ did not converge\", ConvergenceWarning)\n",
      "/anaconda/envs/my_projects_env/lib/python3.6/site-packages/sklearn/linear_model/sag.py:326: ConvergenceWarning: The max_iter was reached which means the coef_ did not converge\n",
      "  \"the coef_ did not converge\", ConvergenceWarning)\n",
      "/anaconda/envs/my_projects_env/lib/python3.6/site-packages/sklearn/linear_model/sag.py:326: ConvergenceWarning: The max_iter was reached which means the coef_ did not converge\n",
      "  \"the coef_ did not converge\", ConvergenceWarning)\n",
      "/anaconda/envs/my_projects_env/lib/python3.6/site-packages/sklearn/linear_model/sag.py:326: ConvergenceWarning: The max_iter was reached which means the coef_ did not converge\n",
      "  \"the coef_ did not converge\", ConvergenceWarning)\n",
      "/anaconda/envs/my_projects_env/lib/python3.6/site-packages/sklearn/linear_model/sag.py:326: ConvergenceWarning: The max_iter was reached which means the coef_ did not converge\n",
      "  \"the coef_ did not converge\", ConvergenceWarning)\n",
      "/anaconda/envs/my_projects_env/lib/python3.6/site-packages/sklearn/linear_model/sag.py:326: ConvergenceWarning: The max_iter was reached which means the coef_ did not converge\n",
      "  \"the coef_ did not converge\", ConvergenceWarning)\n",
      "/anaconda/envs/my_projects_env/lib/python3.6/site-packages/sklearn/linear_model/sag.py:326: ConvergenceWarning: The max_iter was reached which means the coef_ did not converge\n",
      "  \"the coef_ did not converge\", ConvergenceWarning)\n",
      "/anaconda/envs/my_projects_env/lib/python3.6/site-packages/sklearn/linear_model/sag.py:326: ConvergenceWarning: The max_iter was reached which means the coef_ did not converge\n",
      "  \"the coef_ did not converge\", ConvergenceWarning)\n",
      "/anaconda/envs/my_projects_env/lib/python3.6/site-packages/sklearn/linear_model/sag.py:326: ConvergenceWarning: The max_iter was reached which means the coef_ did not converge\n",
      "  \"the coef_ did not converge\", ConvergenceWarning)\n",
      "/anaconda/envs/my_projects_env/lib/python3.6/site-packages/sklearn/linear_model/sag.py:326: ConvergenceWarning: The max_iter was reached which means the coef_ did not converge\n",
      "  \"the coef_ did not converge\", ConvergenceWarning)\n",
      "/anaconda/envs/my_projects_env/lib/python3.6/site-packages/sklearn/linear_model/sag.py:326: ConvergenceWarning: The max_iter was reached which means the coef_ did not converge\n",
      "  \"the coef_ did not converge\", ConvergenceWarning)\n",
      "/anaconda/envs/my_projects_env/lib/python3.6/site-packages/sklearn/linear_model/sag.py:326: ConvergenceWarning: The max_iter was reached which means the coef_ did not converge\n",
      "  \"the coef_ did not converge\", ConvergenceWarning)\n",
      "[Parallel(n_jobs=-1)]: Done  90 out of  90 | elapsed: 18.6min finished\n"
     ]
    },
    {
     "name": "stdout",
     "output_type": "stream",
     "text": [
      "GridSearchCV took 1126.38 seconds for 18 candidate parameter settings.\n",
      "Model with rank: 1\n",
      "Mean validation score: 0.571 (std: 0.001)\n",
      "Parameters: {'C': 0.1, 'penalty': 'l1'}\n",
      "\n",
      "Model with rank: 1\n",
      "Mean validation score: 0.571 (std: 0.001)\n",
      "Parameters: {'C': 0.1, 'penalty': 'l2'}\n",
      "\n",
      "Model with rank: 1\n",
      "Mean validation score: 0.571 (std: 0.001)\n",
      "Parameters: {'C': 1, 'penalty': 'l1'}\n",
      "\n",
      "Model with rank: 1\n",
      "Mean validation score: 0.571 (std: 0.001)\n",
      "Parameters: {'C': 1, 'penalty': 'l2'}\n",
      "\n",
      "Model with rank: 1\n",
      "Mean validation score: 0.571 (std: 0.001)\n",
      "Parameters: {'C': 10, 'penalty': 'l1'}\n",
      "\n",
      "Model with rank: 1\n",
      "Mean validation score: 0.571 (std: 0.001)\n",
      "Parameters: {'C': 10, 'penalty': 'l2'}\n",
      "\n",
      "Model with rank: 1\n",
      "Mean validation score: 0.571 (std: 0.001)\n",
      "Parameters: {'C': 100, 'penalty': 'l1'}\n",
      "\n",
      "Model with rank: 1\n",
      "Mean validation score: 0.571 (std: 0.001)\n",
      "Parameters: {'C': 100, 'penalty': 'l2'}\n",
      "\n",
      "Model with rank: 1\n",
      "Mean validation score: 0.571 (std: 0.001)\n",
      "Parameters: {'C': 1000.0, 'penalty': 'l1'}\n",
      "\n",
      "Model with rank: 1\n",
      "Mean validation score: 0.571 (std: 0.001)\n",
      "Parameters: {'C': 1000.0, 'penalty': 'l2'}\n",
      "\n",
      "Model with rank: 1\n",
      "Mean validation score: 0.571 (std: 0.001)\n",
      "Parameters: {'C': 10000.0, 'penalty': 'l1'}\n",
      "\n",
      "Model with rank: 1\n",
      "Mean validation score: 0.571 (std: 0.001)\n",
      "Parameters: {'C': 10000.0, 'penalty': 'l2'}\n",
      "\n"
     ]
    }
   ],
   "source": [
    "from time import time\n",
    "from scipy.stats import randint as sp_randint\n",
    "\n",
    "from sklearn.model_selection import GridSearchCV\n",
    "from sklearn.model_selection import RandomizedSearchCV\n",
    "from sklearn.model_selection import StratifiedKFold\n",
    "from sklearn.datasets import load_digits\n",
    "# from sklearn.ensemble import RandomForestClassifier\n",
    "from sklearn import ensemble,metrics\n",
    "from sklearn import linear_model\n",
    "\n",
    "# Utility function to report best scores\n",
    "def report(results, n_top=3):\n",
    "    for i in range(1, n_top + 1):\n",
    "        candidates = np.flatnonzero(results['rank_test_score'] == i)\n",
    "        for candidate in candidates:\n",
    "            print(\"Model with rank: {0}\".format(i))\n",
    "            print(\"Mean validation score: {0:.3f} (std: {1:.3f})\".format(\n",
    "                  results['mean_test_score'][candidate],\n",
    "                  results['std_test_score'][candidate]))\n",
    "            print(\"Parameters: {0}\".format(results['params'][candidate]))\n",
    "            print(\"\")\n",
    "            \n",
    "\n",
    "logreg = linear_model.LogisticRegression(solver = 'saga',max_iter=400)\n",
    "\n",
    "# use a full grid over all parameters\n",
    "param_grid = {\"C\": [1E-4,1E-3,1E-2,1E-1,1,10,100,1E3,1E4],\n",
    "              \"penalty\": [\"l1\", \"l2\"]}\n",
    "\n",
    "cv=StratifiedKFold(n_splits=5)\n",
    "# run grid search\n",
    "grid_search = GridSearchCV(logreg, param_grid=param_grid,cv=cv, n_jobs = -1, verbose = True)\n",
    "start = time()\n",
    "\n",
    "grid_search.fit(Xtrain, ytrain)\n",
    "\n",
    "\n",
    "print(\"GridSearchCV took %.2f seconds for %d candidate parameter settings.\"\n",
    "      % (time() - start, len(grid_search.cv_results_['params'])))\n",
    "report(grid_search.cv_results_)"
   ]
  },
  {
   "cell_type": "code",
   "execution_count": 378,
   "metadata": {
    "collapsed": true
   },
   "outputs": [],
   "source": [
    "results = grid_search.cv_results_"
   ]
  },
  {
   "cell_type": "code",
   "execution_count": 395,
   "metadata": {
    "collapsed": true
   },
   "outputs": [],
   "source": [
    "my_model = grid_search.best_estimator_"
   ]
  },
  {
   "cell_type": "code",
   "execution_count": 398,
   "metadata": {},
   "outputs": [
    {
     "data": {
      "image/png": "[encoded data removed]",
      "text/plain": [
       "<matplotlib.figure.Figure at 0x13a7c0470>"
      ]
     },
     "metadata": {},
     "output_type": "display_data"
    }
   ],
   "source": [
    "%matplotlib inline\n",
    "std_importance = np.std([tree.feature_importances_ for tree in my_model.estimators_],axis=0)\n",
    "Importance = pd.DataFrame({'Importance':my_model.feature_importances_*100,'std_importance':std_importance*100}, index=Xtrain.columns)\n",
    "\n",
    "Importance.sort_values('Importance', axis=0, ascending=True).plot(kind='barh', color='r', figsize = (6,8.2), xerr = 'std_importance' )\n",
    "plt.xlabel('Variable Importance')\n",
    "plt.gca().legend_ = None\n",
    "plt.gca().xaxis.label.set_size(30)\n",
    "plt.show()"
   ]
  },
  {
   "cell_type": "code",
   "execution_count": 394,
   "metadata": {},
   "outputs": [
    {
     "name": "stdout",
     "output_type": "stream",
     "text": [
      "Fitting 5 folds for each of 324 candidates, totalling 1620 fits\n"
     ]
    },
    {
     "name": "stderr",
     "output_type": "stream",
     "text": [
      "[Parallel(n_jobs=-1)]: Done  34 tasks      | elapsed:   26.1s\n",
      "[Parallel(n_jobs=-1)]: Done 184 tasks      | elapsed:  3.0min\n",
      "[Parallel(n_jobs=-1)]: Done 434 tasks      | elapsed:  8.6min\n",
      "[Parallel(n_jobs=-1)]: Done 784 tasks      | elapsed: 16.7min\n",
      "[Parallel(n_jobs=-1)]: Done 1234 tasks      | elapsed: 26.9min\n",
      "[Parallel(n_jobs=-1)]: Done 1620 out of 1620 | elapsed: 35.2min finished\n"
     ]
    },
    {
     "name": "stdout",
     "output_type": "stream",
     "text": [
      "GridSearchCV took 2117.61 seconds for 324 candidate parameter settings.\n",
      "Model with rank: 1\n",
      "Mean validation score: 0.572 (std: 0.001)\n",
      "Parameters: {'bootstrap': True, 'criterion': 'entropy', 'max_depth': 10, 'max_features': 13, 'min_samples_leaf': 1, 'min_samples_split': 10}\n",
      "\n",
      "Model with rank: 2\n",
      "Mean validation score: 0.572 (std: 0.001)\n",
      "Parameters: {'bootstrap': True, 'criterion': 'gini', 'max_depth': 10, 'max_features': 3, 'min_samples_leaf': 1, 'min_samples_split': 10}\n",
      "\n",
      "Model with rank: 2\n",
      "Mean validation score: 0.572 (std: 0.001)\n",
      "Parameters: {'bootstrap': True, 'criterion': 'gini', 'max_depth': None, 'max_features': 3, 'min_samples_leaf': 1, 'min_samples_split': 2}\n",
      "\n",
      "Model with rank: 2\n",
      "Mean validation score: 0.572 (std: 0.001)\n",
      "Parameters: {'bootstrap': True, 'criterion': 'gini', 'max_depth': None, 'max_features': 3, 'min_samples_leaf': 1, 'min_samples_split': 3}\n",
      "\n",
      "Model with rank: 2\n",
      "Mean validation score: 0.572 (std: 0.001)\n",
      "Parameters: {'bootstrap': True, 'criterion': 'gini', 'max_depth': None, 'max_features': 3, 'min_samples_leaf': 1, 'min_samples_split': 10}\n",
      "\n",
      "Model with rank: 2\n",
      "Mean validation score: 0.572 (std: 0.001)\n",
      "Parameters: {'bootstrap': True, 'criterion': 'gini', 'max_depth': None, 'max_features': 3, 'min_samples_leaf': 10, 'min_samples_split': 2}\n",
      "\n",
      "Model with rank: 2\n",
      "Mean validation score: 0.572 (std: 0.001)\n",
      "Parameters: {'bootstrap': True, 'criterion': 'entropy', 'max_depth': 10, 'max_features': 3, 'min_samples_leaf': 1, 'min_samples_split': 3}\n",
      "\n",
      "Model with rank: 2\n",
      "Mean validation score: 0.572 (std: 0.001)\n",
      "Parameters: {'bootstrap': True, 'criterion': 'entropy', 'max_depth': 10, 'max_features': 3, 'min_samples_leaf': 1, 'min_samples_split': 10}\n",
      "\n",
      "Model with rank: 2\n",
      "Mean validation score: 0.572 (std: 0.001)\n",
      "Parameters: {'bootstrap': True, 'criterion': 'entropy', 'max_depth': None, 'max_features': 3, 'min_samples_leaf': 1, 'min_samples_split': 2}\n",
      "\n",
      "Model with rank: 2\n",
      "Mean validation score: 0.572 (std: 0.001)\n",
      "Parameters: {'bootstrap': True, 'criterion': 'entropy', 'max_depth': None, 'max_features': 3, 'min_samples_leaf': 1, 'min_samples_split': 3}\n",
      "\n",
      "Model with rank: 2\n",
      "Mean validation score: 0.572 (std: 0.001)\n",
      "Parameters: {'bootstrap': True, 'criterion': 'entropy', 'max_depth': None, 'max_features': 3, 'min_samples_leaf': 3, 'min_samples_split': 2}\n",
      "\n",
      "Model with rank: 2\n",
      "Mean validation score: 0.572 (std: 0.001)\n",
      "Parameters: {'bootstrap': False, 'criterion': 'gini', 'max_depth': 10, 'max_features': 3, 'min_samples_leaf': 1, 'min_samples_split': 2}\n",
      "\n",
      "Model with rank: 2\n",
      "Mean validation score: 0.572 (std: 0.001)\n",
      "Parameters: {'bootstrap': False, 'criterion': 'gini', 'max_depth': 10, 'max_features': 3, 'min_samples_leaf': 1, 'min_samples_split': 3}\n",
      "\n",
      "Model with rank: 2\n",
      "Mean validation score: 0.572 (std: 0.001)\n",
      "Parameters: {'bootstrap': False, 'criterion': 'gini', 'max_depth': 10, 'max_features': 3, 'min_samples_leaf': 1, 'min_samples_split': 10}\n",
      "\n",
      "Model with rank: 2\n",
      "Mean validation score: 0.572 (std: 0.001)\n",
      "Parameters: {'bootstrap': False, 'criterion': 'gini', 'max_depth': None, 'max_features': 3, 'min_samples_leaf': 1, 'min_samples_split': 2}\n",
      "\n",
      "Model with rank: 2\n",
      "Mean validation score: 0.572 (std: 0.001)\n",
      "Parameters: {'bootstrap': False, 'criterion': 'gini', 'max_depth': None, 'max_features': 3, 'min_samples_leaf': 1, 'min_samples_split': 3}\n",
      "\n",
      "Model with rank: 2\n",
      "Mean validation score: 0.572 (std: 0.001)\n",
      "Parameters: {'bootstrap': False, 'criterion': 'gini', 'max_depth': None, 'max_features': 3, 'min_samples_leaf': 1, 'min_samples_split': 10}\n",
      "\n",
      "Model with rank: 2\n",
      "Mean validation score: 0.572 (std: 0.001)\n",
      "Parameters: {'bootstrap': False, 'criterion': 'gini', 'max_depth': None, 'max_features': 3, 'min_samples_leaf': 3, 'min_samples_split': 10}\n",
      "\n",
      "Model with rank: 2\n",
      "Mean validation score: 0.572 (std: 0.001)\n",
      "Parameters: {'bootstrap': False, 'criterion': 'gini', 'max_depth': None, 'max_features': 3, 'min_samples_leaf': 10, 'min_samples_split': 10}\n",
      "\n",
      "Model with rank: 2\n",
      "Mean validation score: 0.572 (std: 0.001)\n",
      "Parameters: {'bootstrap': False, 'criterion': 'entropy', 'max_depth': 10, 'max_features': 3, 'min_samples_leaf': 1, 'min_samples_split': 2}\n",
      "\n",
      "Model with rank: 2\n",
      "Mean validation score: 0.572 (std: 0.001)\n",
      "Parameters: {'bootstrap': False, 'criterion': 'entropy', 'max_depth': 10, 'max_features': 3, 'min_samples_leaf': 1, 'min_samples_split': 3}\n",
      "\n",
      "Model with rank: 2\n",
      "Mean validation score: 0.572 (std: 0.001)\n",
      "Parameters: {'bootstrap': False, 'criterion': 'entropy', 'max_depth': 10, 'max_features': 3, 'min_samples_leaf': 1, 'min_samples_split': 10}\n",
      "\n",
      "Model with rank: 2\n",
      "Mean validation score: 0.572 (std: 0.001)\n",
      "Parameters: {'bootstrap': False, 'criterion': 'entropy', 'max_depth': None, 'max_features': 3, 'min_samples_leaf': 1, 'min_samples_split': 2}\n",
      "\n",
      "Model with rank: 2\n",
      "Mean validation score: 0.572 (std: 0.001)\n",
      "Parameters: {'bootstrap': False, 'criterion': 'entropy', 'max_depth': None, 'max_features': 3, 'min_samples_leaf': 1, 'min_samples_split': 3}\n",
      "\n",
      "Model with rank: 2\n",
      "Mean validation score: 0.572 (std: 0.001)\n",
      "Parameters: {'bootstrap': False, 'criterion': 'entropy', 'max_depth': None, 'max_features': 3, 'min_samples_leaf': 1, 'min_samples_split': 10}\n",
      "\n",
      "Model with rank: 2\n",
      "Mean validation score: 0.572 (std: 0.001)\n",
      "Parameters: {'bootstrap': False, 'criterion': 'entropy', 'max_depth': None, 'max_features': 3, 'min_samples_leaf': 3, 'min_samples_split': 10}\n",
      "\n"
     ]
    }
   ],
   "source": [
    "from time import time\n",
    "from scipy.stats import randint as sp_randint\n",
    "\n",
    "from sklearn.model_selection import GridSearchCV\n",
    "from sklearn.model_selection import RandomizedSearchCV\n",
    "from sklearn.model_selection import StratifiedKFold\n",
    "from sklearn.datasets import load_digits\n",
    "from sklearn.ensemble import RandomForestClassifier\n",
    "\n",
    "# Utility function to report best scores\n",
    "def report(results, n_top=3):\n",
    "    for i in range(1, n_top + 1):\n",
    "        candidates = np.flatnonzero(results['rank_test_score'] == i)\n",
    "        for candidate in candidates:\n",
    "            print(\"Model with rank: {0}\".format(i))\n",
    "            print(\"Mean validation score: {0:.3f} (std: {1:.3f})\".format(\n",
    "                  results['mean_test_score'][candidate],\n",
    "                  results['std_test_score'][candidate]))\n",
    "            print(\"Parameters: {0}\".format(results['params'][candidate]))\n",
    "            print(\"\")\n",
    "            \n",
    "\n",
    "clf = ensemble.RandomForestClassifier(n_estimators=20)\n",
    "\n",
    "# use a full grid over all parameters\n",
    "param_grid = {\"max_depth\": [3, 10,None],\n",
    "              \"max_features\": [3,6,13],\n",
    "              \"min_samples_split\": [2, 3, 10],\n",
    "              \"min_samples_leaf\": [1, 3, 10],\n",
    "              \"bootstrap\": [True, False],\n",
    "              \"criterion\": [\"gini\", \"entropy\"]}\n",
    "\n",
    "cv=StratifiedKFold(n_splits=5)\n",
    "# run grid search\n",
    "grid_search = GridSearchCV(clf, param_grid=param_grid,cv=cv, n_jobs = -1, verbose = True)\n",
    "start = time()\n",
    "grid_search.fit(Xtrain, ytrain)\n",
    "\n",
    "print(\"GridSearchCV took %.2f seconds for %d candidate parameter settings.\"\n",
    "      % (time() - start, len(grid_search.cv_results_['params'])))\n",
    "report(grid_search.cv_results_)"
   ]
  },
  {
   "cell_type": "code",
   "execution_count": 382,
   "metadata": {},
   "outputs": [
    {
     "name": "stdout",
     "output_type": "stream",
     "text": [
      "Model with rank: 1\n",
      "Mean train score: 0.571 (std: 0.000)\n",
      "Parameters: {'C': 0.1, 'penalty': 'l1'}\n",
      "\n",
      "Model with rank: 1\n",
      "Mean train score: 0.571 (std: 0.000)\n",
      "Parameters: {'C': 0.1, 'penalty': 'l2'}\n",
      "\n",
      "Model with rank: 1\n",
      "Mean train score: 0.571 (std: 0.000)\n",
      "Parameters: {'C': 1, 'penalty': 'l1'}\n",
      "\n",
      "Model with rank: 1\n",
      "Mean train score: 0.571 (std: 0.000)\n",
      "Parameters: {'C': 1, 'penalty': 'l2'}\n",
      "\n",
      "Model with rank: 1\n",
      "Mean train score: 0.571 (std: 0.000)\n",
      "Parameters: {'C': 10, 'penalty': 'l1'}\n",
      "\n",
      "Model with rank: 1\n",
      "Mean train score: 0.571 (std: 0.000)\n",
      "Parameters: {'C': 10, 'penalty': 'l2'}\n",
      "\n",
      "Model with rank: 1\n",
      "Mean train score: 0.571 (std: 0.000)\n",
      "Parameters: {'C': 100, 'penalty': 'l1'}\n",
      "\n",
      "Model with rank: 1\n",
      "Mean train score: 0.571 (std: 0.000)\n",
      "Parameters: {'C': 100, 'penalty': 'l2'}\n",
      "\n",
      "Model with rank: 1\n",
      "Mean train score: 0.571 (std: 0.000)\n",
      "Parameters: {'C': 1000.0, 'penalty': 'l1'}\n",
      "\n",
      "Model with rank: 1\n",
      "Mean train score: 0.571 (std: 0.000)\n",
      "Parameters: {'C': 1000.0, 'penalty': 'l2'}\n",
      "\n",
      "Model with rank: 1\n",
      "Mean train score: 0.571 (std: 0.000)\n",
      "Parameters: {'C': 10000.0, 'penalty': 'l1'}\n",
      "\n",
      "Model with rank: 1\n",
      "Mean train score: 0.571 (std: 0.000)\n",
      "Parameters: {'C': 10000.0, 'penalty': 'l2'}\n",
      "\n"
     ]
    }
   ],
   "source": [
    "for i in range(1, 4):\n",
    "    candidates = np.flatnonzero(results['rank_test_score'] == i)\n",
    "    for candidate in candidates:\n",
    "        print(\"Model with rank: {0}\".format(i))\n",
    "        print(\"Mean train score: {0:.3f} (std: {1:.3f})\".format(\n",
    "              results['mean_train_score'][candidate],\n",
    "              results['std_train_score'][candidate]))\n",
    "        print(\"Parameters: {0}\".format(results['params'][candidate]))\n",
    "        print(\"\")"
   ]
  },
  {
   "cell_type": "code",
   "execution_count": 374,
   "metadata": {
    "collapsed": true
   },
   "outputs": [],
   "source": [
    "candidates = np.flatnonzero(grid_search.cv_results_['rank_test_score'] == 1)"
   ]
  },
  {
   "cell_type": "markdown",
   "metadata": {},
   "source": [
    "# Findings from this section:"
   ]
  },
  {
   "cell_type": "markdown",
   "metadata": {},
   "source": [
    "Neither random forest classification nor logistic regression had more predictive accuracy than 57%. I used random forest because in sklearn logistic regression does not provide p-values and confidence intervals on regression coefficients (I could have used the statsmodels packge, but did not get around to it). The random forest model suggests that friends referral was an important determinant of conversion. Although the random forest does not speciy the direction, we can make an educated guess that it benfits conversion,."
   ]
  }
 ],
 "metadata": {
  "kernelspec": {
   "display_name": "Python [conda env:my_projects_env]",
   "language": "python",
   "name": "conda-env-my_projects_env-py"
  },
  "language_info": {
   "codemirror_mode": {
    "name": "ipython",
    "version": 3
   },
   "file_extension": ".py",
   "mimetype": "text/x-python",
   "name": "python",
   "nbconvert_exporter": "python",
   "pygments_lexer": "ipython3",
   "version": "3.6.2"
  }
 },
 "nbformat": 4,
 "nbformat_minor": 2
}
