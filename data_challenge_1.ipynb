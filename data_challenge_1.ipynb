{
 "cells": [
  {
   "cell_type": "code",
   "execution_count": 1,
   "metadata": {
    "collapsed": true
   },
   "outputs": [],
   "source": [
    "import pandas as pd\n",
    "import numpy as np\n",
    "import matplotlib.pyplot as plt\n",
    "from lifelines import CoxPHFitter"
   ]
  },
  {
   "cell_type": "code",
   "execution_count": 2,
   "metadata": {},
   "outputs": [],
   "source": [
    "employees = pd.read_csv('/Users/baharsharafi/Documents/Insight\\\n",
    "/DataChallenges/employee_retention_data.csv')"
   ]
  },
  {
   "cell_type": "markdown",
   "metadata": {},
   "source": [
    "# Create a table with head counts on each day for each company "
   ]
  },
  {
   "cell_type": "code",
   "execution_count": 3,
   "metadata": {},
   "outputs": [
    {
     "data": {
      "text/html": [
       "<div>\n",
       "<style>\n",
       "    .dataframe thead tr:only-child th {\n",
       "        text-align: right;\n",
       "    }\n",
       "\n",
       "    .dataframe thead th {\n",
       "        text-align: left;\n",
       "    }\n",
       "\n",
       "    .dataframe tbody tr th {\n",
       "        vertical-align: top;\n",
       "    }\n",
       "</style>\n",
       "<table border=\"1\" class=\"dataframe\">\n",
       "  <thead>\n",
       "    <tr style=\"text-align: right;\">\n",
       "      <th></th>\n",
       "      <th>employee_id</th>\n",
       "      <th>company_id</th>\n",
       "      <th>dept</th>\n",
       "      <th>seniority</th>\n",
       "      <th>salary</th>\n",
       "      <th>join_date</th>\n",
       "      <th>quit_date</th>\n",
       "    </tr>\n",
       "  </thead>\n",
       "  <tbody>\n",
       "    <tr>\n",
       "      <th>0</th>\n",
       "      <td>13021.0</td>\n",
       "      <td>7</td>\n",
       "      <td>customer_service</td>\n",
       "      <td>28</td>\n",
       "      <td>89000.0</td>\n",
       "      <td>2014-03-24</td>\n",
       "      <td>2015-10-30</td>\n",
       "    </tr>\n",
       "    <tr>\n",
       "      <th>1</th>\n",
       "      <td>825355.0</td>\n",
       "      <td>7</td>\n",
       "      <td>marketing</td>\n",
       "      <td>20</td>\n",
       "      <td>183000.0</td>\n",
       "      <td>2013-04-29</td>\n",
       "      <td>2014-04-04</td>\n",
       "    </tr>\n",
       "    <tr>\n",
       "      <th>2</th>\n",
       "      <td>927315.0</td>\n",
       "      <td>4</td>\n",
       "      <td>marketing</td>\n",
       "      <td>14</td>\n",
       "      <td>101000.0</td>\n",
       "      <td>2014-10-13</td>\n",
       "      <td>NaN</td>\n",
       "    </tr>\n",
       "    <tr>\n",
       "      <th>3</th>\n",
       "      <td>662910.0</td>\n",
       "      <td>7</td>\n",
       "      <td>customer_service</td>\n",
       "      <td>20</td>\n",
       "      <td>115000.0</td>\n",
       "      <td>2012-05-14</td>\n",
       "      <td>2013-06-07</td>\n",
       "    </tr>\n",
       "    <tr>\n",
       "      <th>4</th>\n",
       "      <td>256971.0</td>\n",
       "      <td>2</td>\n",
       "      <td>data_science</td>\n",
       "      <td>23</td>\n",
       "      <td>276000.0</td>\n",
       "      <td>2011-10-17</td>\n",
       "      <td>2014-08-22</td>\n",
       "    </tr>\n",
       "  </tbody>\n",
       "</table>\n",
       "</div>"
      ],
      "text/plain": [
       "   employee_id  company_id              dept  seniority    salary   join_date  \\\n",
       "0      13021.0           7  customer_service         28   89000.0  2014-03-24   \n",
       "1     825355.0           7         marketing         20  183000.0  2013-04-29   \n",
       "2     927315.0           4         marketing         14  101000.0  2014-10-13   \n",
       "3     662910.0           7  customer_service         20  115000.0  2012-05-14   \n",
       "4     256971.0           2      data_science         23  276000.0  2011-10-17   \n",
       "\n",
       "    quit_date  \n",
       "0  2015-10-30  \n",
       "1  2014-04-04  \n",
       "2         NaN  \n",
       "3  2013-06-07  \n",
       "4  2014-08-22  "
      ]
     },
     "execution_count": 3,
     "metadata": {},
     "output_type": "execute_result"
    }
   ],
   "source": [
    "employees.head()"
   ]
  },
  {
   "cell_type": "code",
   "execution_count": 4,
   "metadata": {
    "collapsed": true
   },
   "outputs": [],
   "source": [
    "# Remove rows with wrong values for seniority:\n",
    "\n",
    "wrong_sen_mask = employees['seniority'] > 40\n",
    "employees.drop(employees[wrong_sen_mask].index,axis = 0,inplace=True)"
   ]
  },
  {
   "cell_type": "code",
   "execution_count": 5,
   "metadata": {
    "collapsed": true
   },
   "outputs": [],
   "source": [
    "# Date range of interest: \n",
    "\n",
    "rng = pd.date_range(' 2011/01/23','2015/12/13', freq='D')"
   ]
  },
  {
   "cell_type": "code",
   "execution_count": 6,
   "metadata": {},
   "outputs": [],
   "source": [
    "# Convert join and quit dates to pandas datetime object:\n",
    "\n",
    "jdates = pd.to_datetime(employees.join_date)\n",
    "qdates = pd.to_datetime(employees.quit_date)\n",
    "employees['join_date'] = jdates\n",
    "employees['quit_date'] = qdates"
   ]
  },
  {
   "cell_type": "code",
   "execution_count": 7,
   "metadata": {
    "collapsed": true
   },
   "outputs": [],
   "source": [
    "# Number of companies: \n",
    "\n",
    "companies = pd.unique(employees.company_id)"
   ]
  },
  {
   "cell_type": "code",
   "execution_count": 8,
   "metadata": {
    "collapsed": true
   },
   "outputs": [],
   "source": [
    "# Initialize the head count data frame:\n",
    "len_df = len(companies)*len(rng)\n",
    "head_count_df = pd.DataFrame({'day':np.repeat(np.NaN,(len_df,)),\n",
    "                              'company_id':np.repeat(np.NaN,(len_df,)),\n",
    "                          'head_count':np.repeat(np.NaN,(len_df,))})\n",
    "\n",
    "grouped_by_company = employees.groupby(['company_id'])\n",
    "\n",
    "for g,g1 in grouped_by_company:\n",
    "    id = pd.unique(g1.company_id)\n",
    "    \n",
    "    start_ind = int((id-1)*len(rng))\n",
    "    end_ind = int(id*len(rng)-1)\n",
    "    inds = np.arange(start_ind,end_ind+1)\n",
    "    \n",
    "    temp = pd.DataFrame({'company_id':np.repeat(pd.unique(g1.company_id),(len(rng),)),\n",
    "                           'head_count':np.repeat(np.NaN,(len(rng),))},index = rng)\n",
    "    \n",
    "    for day in rng:\n",
    "        joins = sum(g1.join_date<day)\n",
    "        quits = sum(g1.quit_date<day)\n",
    "        head_count = joins-quits\n",
    "        temp.loc[day,'head_count'] = head_count\n",
    "\n",
    "        \n",
    "    temp['day'] = temp.index\n",
    "    temp['indices'] = inds\n",
    "    new_temp = temp.set_index('indices')\n",
    "    \n",
    "    head_count_df.iloc[inds,:] = new_temp"
   ]
  },
  {
   "cell_type": "markdown",
   "metadata": {},
   "source": [
    "# Survival "
   ]
  },
  {
   "cell_type": "code",
   "execution_count": 9,
   "metadata": {},
   "outputs": [],
   "source": [
    "empl_table = employees.copy()\n",
    "\n",
    "# Employment duration in days: \n",
    "emp_dur = empl_table['quit_date'] - empl_table['join_date']\n",
    "emp_dur_nona = emp_dur.fillna(value= pd.to_timedelta(len(rng),unit = 'D'))\n",
    "dur_days = emp_dur_nona.dt.days"
   ]
  },
  {
   "cell_type": "markdown",
   "metadata": {},
   "source": [
    "### Plot histogram of emplyment duration for those who quit at some point: \n",
    "Just to see what the data looks like. Didn't do anything with this information"
   ]
  },
  {
   "cell_type": "code",
   "execution_count": 10,
   "metadata": {},
   "outputs": [
    {
     "data": {
      "image/png": "[encoded data removed]",
      "text/plain": [
       "<matplotlib.figure.Figure at 0x113b7fb00>"
      ]
     },
     "metadata": {},
     "output_type": "display_data"
    }
   ],
   "source": [
    "%matplotlib inline\n",
    "plt.hist(dur_days,bins=100,range = (dur_days.min(),1750))\n",
    "plt.show()"
   ]
  },
  {
   "cell_type": "markdown",
   "metadata": {},
   "source": [
    "## Plot the relationship between salary and seniority:\n",
    "To see if they are terribly correlated which would make their coefficients underdetermined. They are not."
   ]
  },
  {
   "cell_type": "code",
   "execution_count": 11,
   "metadata": {},
   "outputs": [
    {
     "data": {
      "text/plain": [
       "[<matplotlib.lines.Line2D at 0x117d98668>]"
      ]
     },
     "execution_count": 11,
     "metadata": {},
     "output_type": "execute_result"
    },
    {
     "data": {
      "image/png": "[encoded data removed]",
      "text/plain": [
       "<matplotlib.figure.Figure at 0x117e06668>"
      ]
     },
     "metadata": {},
     "output_type": "display_data"
    }
   ],
   "source": [
    "plt.plot(empl_table['seniority'],empl_table['salary'],'r.',alpha = 0.01)"
   ]
  },
  {
   "cell_type": "markdown",
   "metadata": {},
   "source": [
    "## Create the variables needed for Cox Proportional Hazard regression"
   ]
  },
  {
   "cell_type": "code",
   "execution_count": 12,
   "metadata": {},
   "outputs": [
    {
     "data": {
      "text/plain": [
       "array(['customer_service', 'marketing', 'data_science', 'engineer',\n",
       "       'sales', 'design'], dtype=object)"
      ]
     },
     "execution_count": 12,
     "metadata": {},
     "output_type": "execute_result"
    }
   ],
   "source": [
    "# 1 for those who quit during the monitoring time and 0 for those who did not:\n",
    "empl_table['quit'] = (pd.notnull(empl_table['quit_date'])).astype('int')\n",
    "\n",
    "# Duration of survival:\n",
    "empl_table['days'] = dur_days\n",
    "\n",
    "# Hot one encoding of departments:\n",
    "pd.unique(empl_table.dept)"
   ]
  },
  {
   "cell_type": "code",
   "execution_count": 13,
   "metadata": {},
   "outputs": [],
   "source": [
    "empl_table['customer_service'] = (empl_table['dept'] == 'customer_service').astype('int')\n",
    "empl_table['marketing'] = (empl_table['dept'] == 'marketing').astype('int')\n",
    "empl_table['data_science'] = (empl_table['dept'] == 'data_science').astype('int')\n",
    "empl_table['engineer'] = (empl_table['dept'] == 'engineer').astype('int')\n",
    "empl_table['sales'] = (empl_table['dept'] == 'sales').astype('int')\n",
    "empl_table['design'] = (empl_table['dept'] == 'design').astype('int')"
   ]
  },
  {
   "cell_type": "markdown",
   "metadata": {},
   "source": [
    "### Normalize salary and seniority and create a new table:"
   ]
  },
  {
   "cell_type": "code",
   "execution_count": 14,
   "metadata": {},
   "outputs": [],
   "source": [
    "norm_sal = (empl_table['salary']-empl_table['salary'].min())/(empl_table['salary'].max()-empl_table['salary'].min())\n",
    "norm_sen = (empl_table['seniority']-empl_table['seniority'].min())/(empl_table['seniority'].max()-empl_table['seniority'].min())\n",
    "emp_norm = empl_table.copy()\n",
    "emp_norm['salary'] = norm_sal\n",
    "emp_norm['seniority'] = norm_sen\n",
    "\n",
    "# Drop the unnecessary columns: \n",
    "emp_norm.drop(['employee_id','company_id','dept','join_date','quit_date'],axis = 1,inplace = True)"
   ]
  },
  {
   "cell_type": "markdown",
   "metadata": {},
   "source": [
    "## Cox proportional Hazard coefficients: "
   ]
  },
  {
   "cell_type": "markdown",
   "metadata": {},
   "source": [
    "### Including department:"
   ]
  },
  {
   "cell_type": "code",
   "execution_count": 15,
   "metadata": {},
   "outputs": [
    {
     "name": "stdout",
     "output_type": "stream",
     "text": [
      "n=24700, number of events=13508\n",
      "\n",
      "                    coef  exp(coef)    se(coef)       z      p   lower 0.95  upper 0.95     \n",
      "seniority         0.2287     1.2569      0.0457  4.9996 0.0000       0.1390      0.3183  ***\n",
      "salary           -0.5780     0.5610      0.0920 -6.2842 0.0000      -0.7584     -0.3977  ***\n",
      "customer_service -0.2345     0.7909 245136.3023 -0.0000 1.0000 -480564.1954 480563.7264     \n",
      "marketing        -0.1363     0.8726 245136.3023 -0.0000 1.0000 -480564.0972 480563.8246     \n",
      "data_science     -0.1533     0.8579 245136.3023 -0.0000 1.0000 -480564.1142 480563.8076     \n",
      "engineer         -0.1948     0.8230 245136.3023 -0.0000 1.0000 -480564.1557 480563.7661     \n",
      "sales            -0.0962     0.9082 245136.3023 -0.0000 1.0000 -480564.0571 480563.8647     \n",
      "design           -0.1376     0.8714 245136.3023 -0.0000 1.0000 -480564.0985 480563.8233     \n",
      "---\n",
      "Signif. codes:  0 '***' 0.001 '**' 0.01 '*' 0.05 '.' 0.1 ' ' 1 \n",
      "\n",
      "Concordance = 0.524\n"
     ]
    }
   ],
   "source": [
    "cph = CoxPHFitter()\n",
    "cph.fit(emp_norm, duration_col='days', event_col='quit')\n",
    "\n",
    "cph.print_summary()  # access the results using cph.summary"
   ]
  },
  {
   "cell_type": "markdown",
   "metadata": {},
   "source": [
    "## Not including department:"
   ]
  },
  {
   "cell_type": "code",
   "execution_count": 16,
   "metadata": {},
   "outputs": [
    {
     "name": "stdout",
     "output_type": "stream",
     "text": [
      "n=24700, number of events=13508\n",
      "\n",
      "             coef  exp(coef)  se(coef)       z      p  lower 0.95  upper 0.95     \n",
      "salary    -0.4604     0.6310    0.0533 -8.6386 0.0000     -0.5649     -0.3559  ***\n",
      "seniority  0.1824     1.2001    0.0360  5.0640 0.0000      0.1118      0.2531  ***\n",
      "---\n",
      "Signif. codes:  0 '***' 0.001 '**' 0.01 '*' 0.05 '.' 0.1 ' ' 1 \n",
      "\n",
      "Concordance = 0.520\n"
     ]
    }
   ],
   "source": [
    "cph = CoxPHFitter()\n",
    "cph.fit(emp_norm[['salary','seniority','days','quit']], duration_col='days', event_col='quit')\n",
    "\n",
    "cph.print_summary()  # access the results using cph.summary"
   ]
  },
  {
   "cell_type": "markdown",
   "metadata": {},
   "source": [
    "## Findings:"
   ]
  },
  {
   "cell_type": "markdown",
   "metadata": {},
   "source": [
    "Department had no effect. Salary and Seniority had opposite effects. Seniority increased the hazard of quitting, while salary decreased it. I ran out of time and couldn't check if the proportional hazard assumption holds. \n",
    "\n",
    "Some other information that could be relevant are: level of education, age, marital status, has children or not, whether or not the employee moved from out of town, total compensation (including benefits and any bonus). "
   ]
  },
  {
   "cell_type": "code",
   "execution_count": null,
   "metadata": {
    "collapsed": true
   },
   "outputs": [],
   "source": []
  }
 ],
 "metadata": {
  "kernelspec": {
   "display_name": "Python [conda env:my_projects_env]",
   "language": "python",
   "name": "conda-env-my_projects_env-py"
  },
  "language_info": {
   "codemirror_mode": {
    "name": "ipython",
    "version": 3
   },
   "file_extension": ".py",
   "mimetype": "text/x-python",
   "name": "python",
   "nbconvert_exporter": "python",
   "pygments_lexer": "ipython3",
   "version": "3.6.2"
  }
 },
 "nbformat": 4,
 "nbformat_minor": 2
}
